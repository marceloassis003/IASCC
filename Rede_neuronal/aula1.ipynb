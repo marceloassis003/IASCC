{
 "cells": [
  {
   "cell_type": "code",
   "execution_count": 9,
   "metadata": {},
   "outputs": [
    {
     "name": "stdout",
     "output_type": "stream",
     "text": [
      "Saída da rede: [None, None]\n"
     ]
    }
   ],
   "source": [
    "import random\n",
    "import numpy as np\n",
    "import matplotlib.pyplot as plt\n",
    "\n",
    "\n",
    "\n",
    "\n",
    "\n",
    "\n",
    "\n",
    "class neuronio:\n",
    "\n",
    "    def __init__(self,d,phi):       \n",
    "        #super.__init__()\n",
    "        self.d = d\n",
    "        self.phi = phi \n",
    "\n",
    "        self.w = np.random.uniform(-1, 1, d)\n",
    "\n",
    "        self.b = np.random.uniform(-1, 1)\n",
    "\n",
    "        self.h = 0 \n",
    "        self.y = 0\n",
    "\n",
    "    \n",
    "    def propagar(self,x):\n",
    "        try:\n",
    "            self.h = np.dot(self.w, x) + self.b # np.dot representa o escalar \n",
    "            self.y = self.phi(self.h)\n",
    "            \n",
    "            return self.y \n",
    "        except:\n",
    "            pass\n",
    "    \n",
    "\n",
    "\n",
    "\n",
    "class CamadaDensa:\n",
    "    def __init__(self, de, ds, phi):\n",
    "        #super.__init__()\n",
    "        \n",
    "        self.de = de \n",
    "        self.ds = ds\n",
    "        self.phi = phi \n",
    "\n",
    "        self.neuronios = [neuronio(de, phi) for _ in range(ds)]\n",
    "\n",
    "    def propagar(self, x):\n",
    "\n",
    "        y = [neuronio.propagar(x) for neuronio in self.neuronios]\n",
    "\n",
    "        return y \n",
    "    \n",
    "class CamadaEntrada:\n",
    "    #super.__init__()\n",
    "    def __init__(self, ds):\n",
    "        self.ds = ds  \n",
    "        self.y = [0 for _ in range(ds)]\n",
    "\n",
    "    def propagar(self, x):\n",
    "        self.y = x  \n",
    "\n",
    "\n",
    "        return self.y\n",
    "\n",
    "class RedeNeuronal:\n",
    "    def __init__(self, forma, phi):\n",
    "        #super.__init__()\n",
    "\n",
    "        self.camadas = []   \n",
    "        N = len(forma)  \n",
    "        ds1 = forma[0]\n",
    "\n",
    "        camada_entrada = CamadaEntrada(ds1)\n",
    "        self.camadas.append(camada_entrada)\n",
    "\n",
    "        for n in range(1, N):\n",
    "            de_n = forma[n - 1]  \n",
    "            ds_n = forma[n]  \n",
    "            camada_densa = CamadaDensa(de_n, ds_n, phi)\n",
    "            self.camadas.append(camada_densa)\n",
    "    \n",
    "    def propagar(self, x):\n",
    "\n",
    "        for camada in self.camadas:\n",
    "            x = camada.propagar(x)  \n",
    "        return x\n",
    "\n",
    "def sigmoid(self, x):\n",
    "        try:\n",
    "            return 1 / (1 + np.exp(-x)) # np.exp significa o exponencial do valor\n",
    "        except:\n",
    "            pass\n",
    "\n",
    "RedeN = neuronio(d= 3, phi=sigmoid)\n",
    "\n"
   ]
  },
  {
   "cell_type": "code",
   "execution_count": 8,
   "metadata": {},
   "outputs": [
    {
     "name": "stdout",
     "output_type": "stream",
     "text": [
      "['w1 0.9325205372589925', 'w2 0.018169025165326813', 'w3 0.6506953020076757']\n"
     ]
    }
   ],
   "source": [
    "import random\n",
    "\n",
    "d = 1 \n",
    "list = []\n",
    "\n",
    "for n in range(1,4): \n",
    "  w = random.random()\n",
    "  list.append(f\"w{n} \"+ str(w))\n",
    "  \n",
    "\n",
    "print(list)"
   ]
  },
  {
   "cell_type": "code",
   "execution_count": 2,
   "metadata": {},
   "outputs": [],
   "source": [
    "import numpy as np"
   ]
  },
  {
   "cell_type": "code",
   "execution_count": 12,
   "metadata": {},
   "outputs": [
    {
     "data": {
      "image/png": "[encoded data removed]",
      "text/plain": [
       "<Figure size 640x480 with 1 Axes>"
      ]
     },
     "metadata": {},
     "output_type": "display_data"
    }
   ],
   "source": [
    "\n",
    "import numpy as np\n",
    "import matplotlib.pyplot as plt\n",
    "\n",
    "# Gerar dados de exemplo\n",
    "x = np.linspace(-2, 2, 100)  # Gera 100 pontos entre -2 e 2\n",
    "y = np.exp(x)  # Calcula o exponencial de cada ponto\n",
    "\n",
    "# Gerar o gráfico\n",
    "plt.plot(x, y, label=\"e^x\")  # Traçar o gráfico\n",
    "plt.xlabel(\"x\")  # Legenda eixo x\n",
    "plt.ylabel(\"e^x\")  # Legenda eixo y\n",
    "plt.title(\"Gráfico da Função Exponencial\")\n",
    "plt.legend()\n",
    "plt.grid(True)\n",
    "plt.show()  # Mostrar o gráfico"
   ]
  }
 ],
 "metadata": {
  "kernelspec": {
   "display_name": "Python 3",
   "language": "python",
   "name": "python3"
  },
  "language_info": {
   "codemirror_mode": {
    "name": "ipython",
    "version": 3
   },
   "file_extension": ".py",
   "mimetype": "text/x-python",
   "name": "python",
   "nbconvert_exporter": "python",
   "pygments_lexer": "ipython3",
   "version": "3.12.6"
  }
 },
 "nbformat": 4,
 "nbformat_minor": 2
}
